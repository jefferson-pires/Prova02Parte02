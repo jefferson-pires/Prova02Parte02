{
 "cells": [
  {
   "cell_type": "code",
   "execution_count": 7,
   "metadata": {},
   "outputs": [],
   "source": [
    "\n",
    "import pandas as pd\n",
    "from collections import Counter\n",
    "import numpy as np\n",
    "from sklearn.cross_validation import cross_val_score\n",
    "\n",
    "df = pd.read_csv('mammographic_masses.csv')\n",
    "df = df.replace({'?': ''})\n",
    "X_df = df[['Age','Shape','Margin','Density',]]\n",
    "Y_df = df['Severity']\n",
    "\n",
    "\n",
    "Xdummies_df = pd.get_dummies(X_df).astype(int)\n",
    "X = Xdummies_df.values\n",
    "Y = Y_df.values\n",
    "\n",
    "porcentagem_de_treino = 0.8\n",
    "porcentagem_de_teste = 0.2\n",
    "\n",
    "tamanho_de_treino = int(porcentagem_de_treino * len(Y))\n",
    "tamanho_de_teste = int(porcentagem_de_teste * len(Y))\n",
    "\n",
    "treino_dados = X[:tamanho_de_treino]\n",
    "treino_marcacoes = Y[:tamanho_de_treino]\n",
    "\n",
    "fim_de_treino = tamanho_de_treino + tamanho_de_teste\n",
    "\n",
    "teste_dados = X[tamanho_de_treino:fim_de_treino]\n",
    "teste_marcacoes = Y[tamanho_de_treino:fim_de_treino]\n",
    "\n",
    "def fit_and_predict(nome, modelo, treino_dados, treino_marcacoes,teste_dados, teste_marcacoes):\n",
    "    modelo.fit(treino_dados, treino_marcacoes)\n",
    "    resultado = modelo.predict(teste_dados)\n",
    "    acertos = 0\n",
    "    tamanho = len(teste_marcacoes)\n",
    "    for i in range(tamanho):\n",
    "        if teste_marcacoes[i] == resultado[i]:\n",
    "            acertos = acertos + 1\n",
    "    print('Acerto %s: %.2f' % (nome, (acertos* 100/ tamanho)))\n",
    "    \n",
    "    return resultado"
   ]
  },
  {
   "cell_type": "code",
   "execution_count": 8,
   "metadata": {},
   "outputs": [
    {
     "name": "stdout",
     "output_type": "stream",
     "text": [
      "Acerto MultinomialNB: 80.21\n",
      "Acerto MultinomialNB com K-fold:80.21%\n"
     ]
    },
    {
     "data": {
      "text/plain": [
       "array([[80, 20],\n",
       "       [18, 74]], dtype=int64)"
      ]
     },
     "execution_count": 8,
     "metadata": {},
     "output_type": "execute_result"
    }
   ],
   "source": [
    "from sklearn.naive_bayes import MultinomialNB\n",
    "modeloMultinomial = MultinomialNB()\n",
    "resultado = fit_and_predict(\"MultinomialNB\", modeloMultinomial, treino_dados,treino_marcacoes, teste_dados, teste_marcacoes)\n",
    "\n",
    "k = 8\n",
    "scores = cross_val_score(modeloMultinomial,treino_dados,treino_marcacoes,cv = k)\n",
    "tamanho = len(teste_marcacoes)\n",
    "taxa_de_acerto = np.mean(scores)\n",
    "print('Acerto MultinomialNB com K-fold:{:.2f}%'.format((taxa_de_acerto * 100)))\n",
    "\n",
    "from sklearn.metrics import confusion_matrix\n",
    "\n",
    "confusion_matrix(teste_marcacoes, resultado)"
   ]
  },
  {
   "cell_type": "code",
   "execution_count": 9,
   "metadata": {},
   "outputs": [
    {
     "name": "stdout",
     "output_type": "stream",
     "text": [
      "Acerto AdaBoostClassifier: 78.65\n",
      "Acerto AdaBoost com K-fold:76.56%\n"
     ]
    },
    {
     "data": {
      "text/plain": [
       "array([[83, 17],\n",
       "       [24, 68]], dtype=int64)"
      ]
     },
     "execution_count": 9,
     "metadata": {},
     "output_type": "execute_result"
    }
   ],
   "source": [
    "from sklearn.ensemble import AdaBoostClassifier\n",
    "modeloAdaBoost = AdaBoostClassifier()\n",
    "resultadoAdaBoost = fit_and_predict(\"AdaBoostClassifier\", modeloAdaBoost, treino_dados,treino_marcacoes, teste_dados, teste_marcacoes)\n",
    "\n",
    "k = 8\n",
    "scores = cross_val_score(modeloAdaBoost,treino_dados,treino_marcacoes,cv = k)\n",
    "tamanho = len(teste_marcacoes)\n",
    "taxa_de_acerto = np.mean(scores)\n",
    "print('Acerto AdaBoost com K-fold:{:.2f}%'.format((taxa_de_acerto * 100)))\n",
    "\n",
    "confusion_matrix(teste_marcacoes, resultadoAdaBoost)"
   ]
  },
  {
   "cell_type": "code",
   "execution_count": 10,
   "metadata": {},
   "outputs": [
    {
     "name": "stdout",
     "output_type": "stream",
     "text": [
      "Acerto OneVsRest: 81.25\n",
      "Acerto OneVsRest com K-fold:76.31%\n"
     ]
    },
    {
     "data": {
      "text/plain": [
       "array([[83, 17],\n",
       "       [19, 73]], dtype=int64)"
      ]
     },
     "execution_count": 10,
     "metadata": {},
     "output_type": "execute_result"
    }
   ],
   "source": [
    "from sklearn.multiclass import OneVsRestClassifier\n",
    "from sklearn.svm import LinearSVC\n",
    "modeloOneVsRest = OneVsRestClassifier(LinearSVC(random_state = 0))\n",
    "resultadoOneVsRest = fit_and_predict(\"OneVsRest\", modeloOneVsRest,treino_dados, treino_marcacoes,teste_dados, teste_marcacoes)\n",
    "\n",
    "k = 8\n",
    "scores = cross_val_score(modeloOneVsRest,treino_dados,treino_marcacoes,cv = k)\n",
    "tamanho = len(teste_marcacoes)\n",
    "taxa_de_acerto = np.mean(scores)\n",
    "print('Acerto OneVsRest com K-fold:{:.2f}%'.format((taxa_de_acerto * 100)))\n",
    "\n",
    "confusion_matrix(teste_marcacoes, resultadoOneVsRest)"
   ]
  },
  {
   "cell_type": "code",
   "execution_count": 11,
   "metadata": {},
   "outputs": [
    {
     "name": "stdout",
     "output_type": "stream",
     "text": [
      "Acerto OneVsOne: 81.25\n",
      "Acerto OneVsOne com K-fold:76.31%\n"
     ]
    },
    {
     "data": {
      "text/plain": [
       "array([[83, 17],\n",
       "       [19, 73]], dtype=int64)"
      ]
     },
     "execution_count": 11,
     "metadata": {},
     "output_type": "execute_result"
    }
   ],
   "source": [
    "from sklearn.multiclass import OneVsOneClassifier\n",
    "modeloOneVsOne = OneVsOneClassifier(LinearSVC(random_state = 0))\n",
    "resultadoOneVsOne = fit_and_predict(\"OneVsOne\", modeloOneVsOne,treino_dados, treino_marcacoes,teste_dados, teste_marcacoes)\n",
    "\n",
    "k = 8\n",
    "scores = cross_val_score(modeloOneVsOne,treino_dados,treino_marcacoes,cv = k)\n",
    "tamanho = len(teste_marcacoes)\n",
    "taxa_de_acerto = np.mean(scores)\n",
    "print('Acerto OneVsOne com K-fold:{:.2f}%'.format((taxa_de_acerto * 100)))\n",
    "\n",
    "confusion_matrix(teste_marcacoes, resultadoOneVsOne)"
   ]
  },
  {
   "cell_type": "code",
   "execution_count": 12,
   "metadata": {},
   "outputs": [
    {
     "name": "stdout",
     "output_type": "stream",
     "text": [
      "Acerto DecisionTree: 68.75\n",
      "Acerto DecisionTree com K-fold:74.61%\n"
     ]
    },
    {
     "data": {
      "text/plain": [
       "array([[76, 24],\n",
       "       [36, 56]], dtype=int64)"
      ]
     },
     "execution_count": 12,
     "metadata": {},
     "output_type": "execute_result"
    }
   ],
   "source": [
    "from sklearn import tree\n",
    "tree = tree.DecisionTreeClassifier()\n",
    "resultadoTree = fit_and_predict(\"DecisionTree\", tree,treino_dados, treino_marcacoes, teste_dados, teste_marcacoes)\n",
    "\n",
    "k = 8\n",
    "scores = cross_val_score(tree,treino_dados,treino_marcacoes,cv = k)\n",
    "tamanho = len(teste_marcacoes)\n",
    "taxa_de_acerto = np.mean(scores)\n",
    "print('Acerto DecisionTree com K-fold:{:.2f}%'.format((taxa_de_acerto * 100)))\n",
    "\n",
    "confusion_matrix(teste_marcacoes, resultadoTree)"
   ]
  },
  {
   "cell_type": "code",
   "execution_count": 13,
   "metadata": {
    "collapsed": true
   },
   "outputs": [],
   "source": [
    "import matplotlib.pyplot as plt\n",
    "import seaborn as sns\n",
    "sns.set()\n",
    "%matplotlib inline"
   ]
  },
  {
   "cell_type": "code",
   "execution_count": 14,
   "metadata": {},
   "outputs": [
    {
     "data": {
      "text/plain": [
       "<seaborn.axisgrid.PairGrid at 0x20710e07a58>"
      ]
     },
     "execution_count": 14,
     "metadata": {},
     "output_type": "execute_result"
    },
    {
     "data": {
      "image/png": "[encoded data removed]",
      "text/plain": [
       "<matplotlib.figure.Figure at 0x20710e073c8>"
      ]
     },
     "metadata": {},
     "output_type": "display_data"
    }
   ],
   "source": [
    "sns.pairplot(df,hue='Shape')"
   ]
  },
  {
   "cell_type": "code",
   "execution_count": 86,
   "metadata": {},
   "outputs": [
    {
     "data": {
      "text/plain": [
       "<seaborn.axisgrid.PairGrid at 0x1e4a50120b8>"
      ]
     },
     "execution_count": 86,
     "metadata": {},
     "output_type": "execute_result"
    },
    {
     "data": {
      "image/png": "[encoded data removed]",
      "text/plain": [
       "<matplotlib.figure.Figure at 0x1e4a826a438>"
      ]
     },
     "metadata": {},
     "output_type": "display_data"
    }
   ],
   "source": [
    "sns.pairplot(df,hue='Margin')"
   ]
  },
  {
   "cell_type": "code",
   "execution_count": 88,
   "metadata": {},
   "outputs": [
    {
     "data": {
      "text/plain": [
       "<seaborn.axisgrid.PairGrid at 0x1e4a3137898>"
      ]
     },
     "execution_count": 88,
     "metadata": {},
     "output_type": "execute_result"
    },
    {
     "data": {
      "image/png": "[encoded data removed]",
      "text/plain": [
       "<matplotlib.figure.Figure at 0x1e4a469fda0>"
      ]
     },
     "metadata": {},
     "output_type": "display_data"
    }
   ],
   "source": [
    "sns.pairplot(df,hue='Density')"
   ]
  },
  {
   "cell_type": "code",
   "execution_count": null,
   "metadata": {
    "collapsed": true
   },
   "outputs": [],
   "source": []
  }
 ],
 "metadata": {
  "kernelspec": {
   "display_name": "Python 3",
   "language": "python",
   "name": "python3"
  },
  "language_info": {
   "codemirror_mode": {
    "name": "ipython",
    "version": 3
   },
   "file_extension": ".py",
   "mimetype": "text/x-python",
   "name": "python",
   "nbconvert_exporter": "python",
   "pygments_lexer": "ipython3",
   "version": "3.6.3"
  }
 },
 "nbformat": 4,
 "nbformat_minor": 2
}
